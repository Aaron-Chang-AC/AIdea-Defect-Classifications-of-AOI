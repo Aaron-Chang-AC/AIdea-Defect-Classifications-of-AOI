{
  "nbformat": 4,
  "nbformat_minor": 0,
  "metadata": {
    "colab": {
      "provenance": [],
      "collapsed_sections": []
    },
    "kernelspec": {
      "name": "python3",
      "display_name": "Python 3"
    },
    "language_info": {
      "name": "python"
    },
    "accelerator": "GPU",
    "gpuClass": "standard",
    "widgets": {
      "application/vnd.jupyter.widget-state+json": {
        "478c74fdc4644743987b3b8aaaf08db7": {
          "model_module": "@jupyter-widgets/controls",
          "model_name": "HBoxModel",
          "model_module_version": "1.5.0",
          "state": {
            "_dom_classes": [],
            "_model_module": "@jupyter-widgets/controls",
            "_model_module_version": "1.5.0",
            "_model_name": "HBoxModel",
            "_view_count": null,
            "_view_module": "@jupyter-widgets/controls",
            "_view_module_version": "1.5.0",
            "_view_name": "HBoxView",
            "box_style": "",
            "children": [
              "IPY_MODEL_a1790e8c2a48401696f43beb44f43ad5",
              "IPY_MODEL_1672c14004074f588c0530ad8e2712ac",
              "IPY_MODEL_a436ce9646fc457e935494cd8a376f89"
            ],
            "layout": "IPY_MODEL_9dd443df8a034532941de9be5a7b379e"
          }
        },
        "a1790e8c2a48401696f43beb44f43ad5": {
          "model_module": "@jupyter-widgets/controls",
          "model_name": "HTMLModel",
          "model_module_version": "1.5.0",
          "state": {
            "_dom_classes": [],
            "_model_module": "@jupyter-widgets/controls",
            "_model_module_version": "1.5.0",
            "_model_name": "HTMLModel",
            "_view_count": null,
            "_view_module": "@jupyter-widgets/controls",
            "_view_module_version": "1.5.0",
            "_view_name": "HTMLView",
            "description": "",
            "description_tooltip": null,
            "layout": "IPY_MODEL_3df3c19c3c494289aaec7c57ea0f766e",
            "placeholder": "​",
            "style": "IPY_MODEL_44378df2ab0846e39f6b6c940ce192a2",
            "value": "100%"
          }
        },
        "1672c14004074f588c0530ad8e2712ac": {
          "model_module": "@jupyter-widgets/controls",
          "model_name": "FloatProgressModel",
          "model_module_version": "1.5.0",
          "state": {
            "_dom_classes": [],
            "_model_module": "@jupyter-widgets/controls",
            "_model_module_version": "1.5.0",
            "_model_name": "FloatProgressModel",
            "_view_count": null,
            "_view_module": "@jupyter-widgets/controls",
            "_view_module_version": "1.5.0",
            "_view_name": "ProgressView",
            "bar_style": "success",
            "description": "",
            "description_tooltip": null,
            "layout": "IPY_MODEL_c7a37b8b43e745688d57f518cb187be1",
            "max": 102530333,
            "min": 0,
            "orientation": "horizontal",
            "style": "IPY_MODEL_62e433f7255a4718b5e2a512ca36586c",
            "value": 102530333
          }
        },
        "a436ce9646fc457e935494cd8a376f89": {
          "model_module": "@jupyter-widgets/controls",
          "model_name": "HTMLModel",
          "model_module_version": "1.5.0",
          "state": {
            "_dom_classes": [],
            "_model_module": "@jupyter-widgets/controls",
            "_model_module_version": "1.5.0",
            "_model_name": "HTMLModel",
            "_view_count": null,
            "_view_module": "@jupyter-widgets/controls",
            "_view_module_version": "1.5.0",
            "_view_name": "HTMLView",
            "description": "",
            "description_tooltip": null,
            "layout": "IPY_MODEL_da8880acfd13433b9cb5c4ae837669ac",
            "placeholder": "​",
            "style": "IPY_MODEL_55ccc2a6140a4253a15be89516ddbb74",
            "value": " 97.8M/97.8M [00:00&lt;00:00, 184MB/s]"
          }
        },
        "9dd443df8a034532941de9be5a7b379e": {
          "model_module": "@jupyter-widgets/base",
          "model_name": "LayoutModel",
          "model_module_version": "1.2.0",
          "state": {
            "_model_module": "@jupyter-widgets/base",
            "_model_module_version": "1.2.0",
            "_model_name": "LayoutModel",
            "_view_count": null,
            "_view_module": "@jupyter-widgets/base",
            "_view_module_version": "1.2.0",
            "_view_name": "LayoutView",
            "align_content": null,
            "align_items": null,
            "align_self": null,
            "border": null,
            "bottom": null,
            "display": null,
            "flex": null,
            "flex_flow": null,
            "grid_area": null,
            "grid_auto_columns": null,
            "grid_auto_flow": null,
            "grid_auto_rows": null,
            "grid_column": null,
            "grid_gap": null,
            "grid_row": null,
            "grid_template_areas": null,
            "grid_template_columns": null,
            "grid_template_rows": null,
            "height": null,
            "justify_content": null,
            "justify_items": null,
            "left": null,
            "margin": null,
            "max_height": null,
            "max_width": null,
            "min_height": null,
            "min_width": null,
            "object_fit": null,
            "object_position": null,
            "order": null,
            "overflow": null,
            "overflow_x": null,
            "overflow_y": null,
            "padding": null,
            "right": null,
            "top": null,
            "visibility": null,
            "width": null
          }
        },
        "3df3c19c3c494289aaec7c57ea0f766e": {
          "model_module": "@jupyter-widgets/base",
          "model_name": "LayoutModel",
          "model_module_version": "1.2.0",
          "state": {
            "_model_module": "@jupyter-widgets/base",
            "_model_module_version": "1.2.0",
            "_model_name": "LayoutModel",
            "_view_count": null,
            "_view_module": "@jupyter-widgets/base",
            "_view_module_version": "1.2.0",
            "_view_name": "LayoutView",
            "align_content": null,
            "align_items": null,
            "align_self": null,
            "border": null,
            "bottom": null,
            "display": null,
            "flex": null,
            "flex_flow": null,
            "grid_area": null,
            "grid_auto_columns": null,
            "grid_auto_flow": null,
            "grid_auto_rows": null,
            "grid_column": null,
            "grid_gap": null,
            "grid_row": null,
            "grid_template_areas": null,
            "grid_template_columns": null,
            "grid_template_rows": null,
            "height": null,
            "justify_content": null,
            "justify_items": null,
            "left": null,
            "margin": null,
            "max_height": null,
            "max_width": null,
            "min_height": null,
            "min_width": null,
            "object_fit": null,
            "object_position": null,
            "order": null,
            "overflow": null,
            "overflow_x": null,
            "overflow_y": null,
            "padding": null,
            "right": null,
            "top": null,
            "visibility": null,
            "width": null
          }
        },
        "44378df2ab0846e39f6b6c940ce192a2": {
          "model_module": "@jupyter-widgets/controls",
          "model_name": "DescriptionStyleModel",
          "model_module_version": "1.5.0",
          "state": {
            "_model_module": "@jupyter-widgets/controls",
            "_model_module_version": "1.5.0",
            "_model_name": "DescriptionStyleModel",
            "_view_count": null,
            "_view_module": "@jupyter-widgets/base",
            "_view_module_version": "1.2.0",
            "_view_name": "StyleView",
            "description_width": ""
          }
        },
        "c7a37b8b43e745688d57f518cb187be1": {
          "model_module": "@jupyter-widgets/base",
          "model_name": "LayoutModel",
          "model_module_version": "1.2.0",
          "state": {
            "_model_module": "@jupyter-widgets/base",
            "_model_module_version": "1.2.0",
            "_model_name": "LayoutModel",
            "_view_count": null,
            "_view_module": "@jupyter-widgets/base",
            "_view_module_version": "1.2.0",
            "_view_name": "LayoutView",
            "align_content": null,
            "align_items": null,
            "align_self": null,
            "border": null,
            "bottom": null,
            "display": null,
            "flex": null,
            "flex_flow": null,
            "grid_area": null,
            "grid_auto_columns": null,
            "grid_auto_flow": null,
            "grid_auto_rows": null,
            "grid_column": null,
            "grid_gap": null,
            "grid_row": null,
            "grid_template_areas": null,
            "grid_template_columns": null,
            "grid_template_rows": null,
            "height": null,
            "justify_content": null,
            "justify_items": null,
            "left": null,
            "margin": null,
            "max_height": null,
            "max_width": null,
            "min_height": null,
            "min_width": null,
            "object_fit": null,
            "object_position": null,
            "order": null,
            "overflow": null,
            "overflow_x": null,
            "overflow_y": null,
            "padding": null,
            "right": null,
            "top": null,
            "visibility": null,
            "width": null
          }
        },
        "62e433f7255a4718b5e2a512ca36586c": {
          "model_module": "@jupyter-widgets/controls",
          "model_name": "ProgressStyleModel",
          "model_module_version": "1.5.0",
          "state": {
            "_model_module": "@jupyter-widgets/controls",
            "_model_module_version": "1.5.0",
            "_model_name": "ProgressStyleModel",
            "_view_count": null,
            "_view_module": "@jupyter-widgets/base",
            "_view_module_version": "1.2.0",
            "_view_name": "StyleView",
            "bar_color": null,
            "description_width": ""
          }
        },
        "da8880acfd13433b9cb5c4ae837669ac": {
          "model_module": "@jupyter-widgets/base",
          "model_name": "LayoutModel",
          "model_module_version": "1.2.0",
          "state": {
            "_model_module": "@jupyter-widgets/base",
            "_model_module_version": "1.2.0",
            "_model_name": "LayoutModel",
            "_view_count": null,
            "_view_module": "@jupyter-widgets/base",
            "_view_module_version": "1.2.0",
            "_view_name": "LayoutView",
            "align_content": null,
            "align_items": null,
            "align_self": null,
            "border": null,
            "bottom": null,
            "display": null,
            "flex": null,
            "flex_flow": null,
            "grid_area": null,
            "grid_auto_columns": null,
            "grid_auto_flow": null,
            "grid_auto_rows": null,
            "grid_column": null,
            "grid_gap": null,
            "grid_row": null,
            "grid_template_areas": null,
            "grid_template_columns": null,
            "grid_template_rows": null,
            "height": null,
            "justify_content": null,
            "justify_items": null,
            "left": null,
            "margin": null,
            "max_height": null,
            "max_width": null,
            "min_height": null,
            "min_width": null,
            "object_fit": null,
            "object_position": null,
            "order": null,
            "overflow": null,
            "overflow_x": null,
            "overflow_y": null,
            "padding": null,
            "right": null,
            "top": null,
            "visibility": null,
            "width": null
          }
        },
        "55ccc2a6140a4253a15be89516ddbb74": {
          "model_module": "@jupyter-widgets/controls",
          "model_name": "DescriptionStyleModel",
          "model_module_version": "1.5.0",
          "state": {
            "_model_module": "@jupyter-widgets/controls",
            "_model_module_version": "1.5.0",
            "_model_name": "DescriptionStyleModel",
            "_view_count": null,
            "_view_module": "@jupyter-widgets/base",
            "_view_module_version": "1.2.0",
            "_view_name": "StyleView",
            "description_width": ""
          }
        }
      }
    }
  },
  "cells": [
    {
      "cell_type": "code",
      "execution_count": null,
      "metadata": {
        "colab": {
          "base_uri": "https://localhost:8080/"
        },
        "id": "w3Yw-I6QsVZx",
        "outputId": "f35405c0-560f-4f4b-e8b4-efef0d679364"
      },
      "outputs": [
        {
          "output_type": "stream",
          "name": "stdout",
          "text": [
            "Mounted at /content/drive\n"
          ]
        }
      ],
      "source": [
        "from google.colab import drive\n",
        "drive.mount('/content/drive')"
      ]
    },
    {
      "cell_type": "code",
      "source": [
        "!pip install transformers"
      ],
      "metadata": {
        "colab": {
          "base_uri": "https://localhost:8080/"
        },
        "id": "pjVX0fQH-LQO",
        "outputId": "19e90833-c7d9-4164-91bd-46a7e0ebc0b6"
      },
      "execution_count": null,
      "outputs": [
        {
          "output_type": "stream",
          "name": "stdout",
          "text": [
            "Looking in indexes: https://pypi.org/simple, https://us-python.pkg.dev/colab-wheels/public/simple/\n",
            "Collecting transformers\n",
            "  Downloading transformers-4.24.0-py3-none-any.whl (5.5 MB)\n",
            "\u001b[K     |████████████████████████████████| 5.5 MB 14.9 MB/s \n",
            "\u001b[?25hRequirement already satisfied: tqdm>=4.27 in /usr/local/lib/python3.7/dist-packages (from transformers) (4.64.1)\n",
            "Collecting tokenizers!=0.11.3,<0.14,>=0.11.1\n",
            "  Downloading tokenizers-0.13.2-cp37-cp37m-manylinux_2_17_x86_64.manylinux2014_x86_64.whl (7.6 MB)\n",
            "\u001b[K     |████████████████████████████████| 7.6 MB 55.6 MB/s \n",
            "\u001b[?25hRequirement already satisfied: numpy>=1.17 in /usr/local/lib/python3.7/dist-packages (from transformers) (1.21.6)\n",
            "Requirement already satisfied: regex!=2019.12.17 in /usr/local/lib/python3.7/dist-packages (from transformers) (2022.6.2)\n",
            "Requirement already satisfied: packaging>=20.0 in /usr/local/lib/python3.7/dist-packages (from transformers) (21.3)\n",
            "Requirement already satisfied: importlib-metadata in /usr/local/lib/python3.7/dist-packages (from transformers) (4.13.0)\n",
            "Collecting huggingface-hub<1.0,>=0.10.0\n",
            "  Downloading huggingface_hub-0.10.1-py3-none-any.whl (163 kB)\n",
            "\u001b[K     |████████████████████████████████| 163 kB 64.6 MB/s \n",
            "\u001b[?25hRequirement already satisfied: requests in /usr/local/lib/python3.7/dist-packages (from transformers) (2.23.0)\n",
            "Requirement already satisfied: filelock in /usr/local/lib/python3.7/dist-packages (from transformers) (3.8.0)\n",
            "Requirement already satisfied: pyyaml>=5.1 in /usr/local/lib/python3.7/dist-packages (from transformers) (6.0)\n",
            "Requirement already satisfied: typing-extensions>=3.7.4.3 in /usr/local/lib/python3.7/dist-packages (from huggingface-hub<1.0,>=0.10.0->transformers) (4.1.1)\n",
            "Requirement already satisfied: pyparsing!=3.0.5,>=2.0.2 in /usr/local/lib/python3.7/dist-packages (from packaging>=20.0->transformers) (3.0.9)\n",
            "Requirement already satisfied: zipp>=0.5 in /usr/local/lib/python3.7/dist-packages (from importlib-metadata->transformers) (3.10.0)\n",
            "Requirement already satisfied: certifi>=2017.4.17 in /usr/local/lib/python3.7/dist-packages (from requests->transformers) (2022.9.24)\n",
            "Requirement already satisfied: idna<3,>=2.5 in /usr/local/lib/python3.7/dist-packages (from requests->transformers) (2.10)\n",
            "Requirement already satisfied: urllib3!=1.25.0,!=1.25.1,<1.26,>=1.21.1 in /usr/local/lib/python3.7/dist-packages (from requests->transformers) (1.24.3)\n",
            "Requirement already satisfied: chardet<4,>=3.0.2 in /usr/local/lib/python3.7/dist-packages (from requests->transformers) (3.0.4)\n",
            "Installing collected packages: tokenizers, huggingface-hub, transformers\n",
            "Successfully installed huggingface-hub-0.10.1 tokenizers-0.13.2 transformers-4.24.0\n"
          ]
        }
      ]
    },
    {
      "cell_type": "code",
      "source": [
        "import os\n",
        "\n",
        "os.chdir(\"drive/MyDrive/Colab Notebooks/AOI\")"
      ],
      "metadata": {
        "id": "WXVkLRgosd4T"
      },
      "execution_count": null,
      "outputs": []
    },
    {
      "cell_type": "code",
      "source": [
        "import pandas as pd\n",
        "import os\n",
        "from PIL import Image\n",
        "import torch\n",
        "import torch.nn as nn\n",
        "import torchvision.models as models\n",
        "from torch.utils.data import Dataset\n",
        "from torch.utils.data import DataLoader\n",
        "import torchvision.transforms as transforms\n",
        "from tqdm import tqdm\n",
        "from transformers import get_scheduler\n",
        "\n",
        "# the class for training data\n",
        "class AOI_Dataset(Dataset):\n",
        "    def __init__(self, root_dir, annotation_file, transform1=None, transform2=None):\n",
        "        self.root_dir = root_dir\n",
        "        self.annotations = pd.read_csv(annotation_file)\n",
        "\n",
        "        # transformation 1\n",
        "        self.transform1 = transform1\n",
        "\n",
        "        # transformation 2\n",
        "        self.transform2 = transform2\n",
        "\n",
        "    def __len__(self):\n",
        "        return len(self.annotations)\n",
        "\n",
        "    def __getitem__(self, index):\n",
        "        img_id = self.annotations.iloc[index, 0]\n",
        "        img = Image.open(os.path.join(self.root_dir, img_id)).convert(\"RGB\")\n",
        "        y_label = torch.tensor(float(self.annotations.iloc[index, 1]))\n",
        "\n",
        "        img1 = self.transform1(img)\n",
        "        img2 = self.transform2(img)\n",
        "\n",
        "        return (img1, img2, y_label)"
      ],
      "metadata": {
        "id": "fkE4ISHHsjuH"
      },
      "execution_count": null,
      "outputs": []
    },
    {
      "cell_type": "code",
      "source": [
        "# the structure of the model\n",
        "class AOI_network(nn.Module):\n",
        "  def __init__(self, num_classes=6):\n",
        "    super(AOI_network, self).__init__()\n",
        "    self.resnet50_01 = models.resnet50(pretrained=True)\n",
        "    self.resnet50_02 = models.resnet50(pretrained=True)\n",
        "\n",
        "    self.out_fc = nn.Linear(self.resnet50_01.fc.out_features * 2, num_classes)\n",
        "    self.relu = nn.ReLU()\n",
        "    self.dropout = nn.Dropout(0.2)\n",
        "\n",
        "  def forward(self, images1, images2):\n",
        "    features_01 = self.resnet50_01(images1)\n",
        "    features_02 = self.resnet50_02(images2)\n",
        "    in_features = torch.cat([features_01, features_02], axis=1)\n",
        "    out = self.dropout(self.relu(self.out_fc(in_features)))\n",
        "    return out"
      ],
      "metadata": {
        "id": "BE3-XO4sthz4"
      },
      "execution_count": null,
      "outputs": []
    },
    {
      "cell_type": "code",
      "source": [
        "device = (\"cuda\" if torch.cuda.is_available() else \"cpu\")\n",
        "\n",
        "# transformations can be specified here\n",
        "# the goal of the second transformation is sharpening the images as the second\n",
        "# input images for the model\n",
        "transform_01 = transforms.Compose(\n",
        "        [\n",
        "            transforms.Resize((256, 256)),\n",
        "            transforms.RandomRotation((10)),\n",
        "            transforms.ToTensor(),\n",
        "            transforms.Normalize((0.485, 0.456, 0.406), (0.229, 0.224, 0.225)),\n",
        "        ]\n",
        "    )\n",
        "\n",
        "transform_02 = transforms.Compose(\n",
        "        [\n",
        "            transforms.RandomAdjustSharpness(4, p=1),\n",
        "            transforms.Resize((256, 256)),\n",
        "            transforms.RandomRotation((10)),\n",
        "            transforms.ToTensor(),\n",
        "            transforms.Normalize((0.485, 0.456, 0.406), (0.229, 0.224, 0.225)),\n",
        "        ]\n",
        "    )\n",
        "num_epochs = 20\n",
        "learning_rate = 1e-5\n",
        "batch_size = 16\n",
        "shuffle = True\n",
        "num_workers = 1"
      ],
      "metadata": {
        "id": "m_vD4k73xkFD"
      },
      "execution_count": null,
      "outputs": []
    },
    {
      "cell_type": "code",
      "source": [
        "# all the training images must be in the directory \"train_images\"\n",
        "dataset = AOI_Dataset(\"train_images\",\"train.csv\",transform1=transform_01, transform2=transform_02)\n",
        "train_loader = DataLoader(dataset=dataset, shuffle=shuffle, batch_size=batch_size,num_workers=num_workers)\n",
        "model = AOI_network().to(device)\n",
        "criterion = nn.CrossEntropyLoss()\n",
        "optimizer = torch.optim.AdamW(model.parameters(), lr=learning_rate)\n",
        "learning_rate_scheduler = get_scheduler(\n",
        "        \"linear\",\n",
        "        optimizer=optimizer,\n",
        "        num_warmup_steps=0,\n",
        "        num_training_steps=num_epochs * len(train_loader),\n",
        "    )"
      ],
      "metadata": {
        "colab": {
          "base_uri": "https://localhost:8080/",
          "height": 156,
          "referenced_widgets": [
            "478c74fdc4644743987b3b8aaaf08db7",
            "a1790e8c2a48401696f43beb44f43ad5",
            "1672c14004074f588c0530ad8e2712ac",
            "a436ce9646fc457e935494cd8a376f89",
            "9dd443df8a034532941de9be5a7b379e",
            "3df3c19c3c494289aaec7c57ea0f766e",
            "44378df2ab0846e39f6b6c940ce192a2",
            "c7a37b8b43e745688d57f518cb187be1",
            "62e433f7255a4718b5e2a512ca36586c",
            "da8880acfd13433b9cb5c4ae837669ac",
            "55ccc2a6140a4253a15be89516ddbb74"
          ]
        },
        "id": "0eU8MsQo1bz-",
        "outputId": "6a5a497b-a94d-4217-aabc-da99b5fbce32"
      },
      "execution_count": null,
      "outputs": [
        {
          "output_type": "stream",
          "name": "stderr",
          "text": [
            "/usr/local/lib/python3.7/dist-packages/torchvision/models/_utils.py:209: UserWarning: The parameter 'pretrained' is deprecated since 0.13 and will be removed in 0.15, please use 'weights' instead.\n",
            "  f\"The parameter '{pretrained_param}' is deprecated since 0.13 and will be removed in 0.15, \"\n",
            "/usr/local/lib/python3.7/dist-packages/torchvision/models/_utils.py:223: UserWarning: Arguments other than a weight enum or `None` for 'weights' are deprecated since 0.13 and will be removed in 0.15. The current behavior is equivalent to passing `weights=ResNet50_Weights.IMAGENET1K_V1`. You can also use `weights=ResNet50_Weights.DEFAULT` to get the most up-to-date weights.\n",
            "  warnings.warn(msg)\n",
            "Downloading: \"https://download.pytorch.org/models/resnet50-0676ba61.pth\" to /root/.cache/torch/hub/checkpoints/resnet50-0676ba61.pth\n"
          ]
        },
        {
          "output_type": "display_data",
          "data": {
            "text/plain": [
              "  0%|          | 0.00/97.8M [00:00<?, ?B/s]"
            ],
            "application/vnd.jupyter.widget-view+json": {
              "version_major": 2,
              "version_minor": 0,
              "model_id": "478c74fdc4644743987b3b8aaaf08db7"
            }
          },
          "metadata": {}
        }
      ]
    },
    {
      "cell_type": "code",
      "source": [
        "for epoch in range(num_epochs):\n",
        "  model.train()\n",
        "  loop = tqdm(train_loader, total = len(train_loader), leave = True)\n",
        "  for imgs1, imgs2, labels in loop:\n",
        "    imgs1 = imgs1.to(device)\n",
        "    imgs2 = imgs2.to(device)\n",
        "    labels = labels.type(torch.LongTensor).to(device)\n",
        "    optimizer.zero_grad()\n",
        "    outputs = model(imgs1, imgs2)\n",
        "    # print(outputs.shape, labels.shape)\n",
        "    loss = criterion(outputs, labels)\n",
        "    loss.backward()\n",
        "    optimizer.step()\n",
        "    learning_rate_scheduler.step()\n",
        "    loop.set_description(f\"Epoch [{epoch+1}/{num_epochs}]\")\n",
        "    loop.set_postfix(loss = loss.item())\n",
        "  checkpoint = {\n",
        "                'epoch': epoch,\n",
        "                'state_dict': model.state_dict(),\n",
        "                'optimizer': optimizer.state_dict()\n",
        "  }\n",
        "  torch.save(checkpoint, \"checkpoint\")"
      ],
      "metadata": {
        "colab": {
          "base_uri": "https://localhost:8080/"
        },
        "id": "rhlE8aM32faq",
        "outputId": "51694596-4b74-4307-a5ae-0f07d687dbc2"
      },
      "execution_count": null,
      "outputs": [
        {
          "output_type": "stream",
          "name": "stderr",
          "text": [
            "Epoch [1/20]: 100%|██████████| 158/158 [19:36<00:00,  7.45s/it, loss=0.2]\n",
            "Epoch [2/20]: 100%|██████████| 158/158 [01:22<00:00,  1.92it/s, loss=0.652]\n",
            "Epoch [3/20]: 100%|██████████| 158/158 [01:21<00:00,  1.93it/s, loss=0.33]\n",
            "Epoch [4/20]: 100%|██████████| 158/158 [01:22<00:00,  1.92it/s, loss=0.562]\n",
            "Epoch [5/20]: 100%|██████████| 158/158 [01:22<00:00,  1.91it/s, loss=0.5]\n",
            "Epoch [6/20]: 100%|██████████| 158/158 [01:22<00:00,  1.92it/s, loss=0.255]\n",
            "Epoch [7/20]: 100%|██████████| 158/158 [01:23<00:00,  1.90it/s, loss=0.459]\n",
            "Epoch [8/20]: 100%|██████████| 158/158 [01:25<00:00,  1.86it/s, loss=0.566]\n",
            "Epoch [9/20]: 100%|██████████| 158/158 [01:24<00:00,  1.87it/s, loss=0.228]\n",
            "Epoch [10/20]: 100%|██████████| 158/158 [01:23<00:00,  1.90it/s, loss=0.118]\n",
            "Epoch [11/20]: 100%|██████████| 158/158 [01:21<00:00,  1.94it/s, loss=0.124]\n",
            "Epoch [12/20]: 100%|██████████| 158/158 [01:21<00:00,  1.94it/s, loss=0.228]\n",
            "Epoch [13/20]: 100%|██████████| 158/158 [01:22<00:00,  1.93it/s, loss=0.346]\n",
            "Epoch [14/20]: 100%|██████████| 158/158 [01:22<00:00,  1.92it/s, loss=0.24]\n",
            "Epoch [15/20]: 100%|██████████| 158/158 [01:21<00:00,  1.94it/s, loss=0.374]\n",
            "Epoch [16/20]: 100%|██████████| 158/158 [01:21<00:00,  1.95it/s, loss=0.45]\n",
            "Epoch [17/20]: 100%|██████████| 158/158 [01:19<00:00,  1.98it/s, loss=0.9]\n",
            "Epoch [18/20]: 100%|██████████| 158/158 [01:21<00:00,  1.94it/s, loss=0.119]\n",
            "Epoch [19/20]: 100%|██████████| 158/158 [01:17<00:00,  2.03it/s, loss=0.338]\n",
            "Epoch [20/20]: 100%|██████████| 158/158 [01:19<00:00,  1.98it/s, loss=0.115]\n"
          ]
        }
      ]
    },
    {
      "cell_type": "code",
      "source": [
        "# an extra class for testing data\n",
        "class AOI_Dataset_TEST(Dataset):\n",
        "    def __init__(self, root_dir, annotation_file, transform1=None, transform2=None):\n",
        "        self.root_dir = root_dir\n",
        "        self.annotations = pd.read_csv(annotation_file)\n",
        "\n",
        "        # resolution 1\n",
        "        self.transform1 = transform1\n",
        "\n",
        "        # resolution 2\n",
        "        self.transform2 = transform2\n",
        "\n",
        "    def __len__(self):\n",
        "        return len(self.annotations)\n",
        "\n",
        "    def __getitem__(self, index):\n",
        "        img_id = self.annotations.iloc[index, 0]\n",
        "        img = Image.open(os.path.join(self.root_dir, img_id)).convert(\"RGB\")\n",
        "\n",
        "        img1 = self.transform1(img)\n",
        "        img2 = self.transform2(img)\n",
        "\n",
        "        return (img1, img2)"
      ],
      "metadata": {
        "id": "ml1elbT5DQRV"
      },
      "execution_count": null,
      "outputs": []
    },
    {
      "cell_type": "code",
      "source": [
        "import numpy as np\n",
        "model.eval()\n",
        "# all the testing images must be in the directory \"test_images\"\n",
        "dataset_TEST = AOI_Dataset_TEST(\"test_images\", \"test.csv\", transform1=transform_01, transform2=transform_02)\n",
        "\n",
        "test_loader = DataLoader(dataset=dataset_TEST, shuffle=False, batch_size=16,num_workers=1)\n",
        "loop = tqdm(test_loader, total = len(test_loader), leave = True)\n",
        "pred_labels = []\n",
        "res = []\n",
        "\n",
        "for imgs1, imgs2 in loop:\n",
        "  imgs1 = imgs1.to(device)\n",
        "  imgs2 = imgs2.to(device)\n",
        "\n",
        "  outputs = model(imgs1, imgs2)\n",
        "  pred = torch.argmax(torch.softmax(outputs, dim=1), dim=-1).to(device, dtype=torch.int8)\n",
        "  pred_labels.append(pred.cpu().detach().numpy().tolist())\n",
        "\n",
        "# the original csv file \"test.csv\" containing the names of all images\n",
        "pred_labels = np.asarray(pred_labels)\n",
        "for i in pred_labels:\n",
        "  for j in i:\n",
        "    res.append(j)\n",
        "res = np.array(res)\n",
        "out_df = pd.read_csv(\"test.csv\")\n",
        "print(res)\n",
        "print(len(out_df))\n",
        "out_df[\"Label\"] = res\n",
        "\n",
        "# the new output file can be specified here\n",
        "out_df.to_csv(\"test_output.csv\", encoding='utf-8', index=False)"
      ],
      "metadata": {
        "colab": {
          "base_uri": "https://localhost:8080/"
        },
        "id": "lo7N3UyJC1il",
        "outputId": "cc805d59-b650-46e3-9923-f636e93333e7"
      },
      "execution_count": null,
      "outputs": [
        {
          "output_type": "stream",
          "name": "stderr",
          "text": [
            "100%|██████████| 634/634 [1:33:53<00:00,  8.89s/it]"
          ]
        },
        {
          "output_type": "stream",
          "name": "stdout",
          "text": [
            "[1 2 5 ... 1 3 1]\n",
            "10142\n"
          ]
        },
        {
          "output_type": "stream",
          "name": "stderr",
          "text": [
            "\n",
            "/usr/local/lib/python3.7/dist-packages/ipykernel_launcher.py:17: VisibleDeprecationWarning: Creating an ndarray from ragged nested sequences (which is a list-or-tuple of lists-or-tuples-or ndarrays with different lengths or shapes) is deprecated. If you meant to do this, you must specify 'dtype=object' when creating the ndarray.\n"
          ]
        }
      ]
    }
  ]
}